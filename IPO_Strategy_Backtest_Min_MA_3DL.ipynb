{
 "cells": [
  {
   "cell_type": "code",
   "execution_count": 1,
   "metadata": {},
   "outputs": [],
   "source": [
    "import pandas as pd\n",
    "import numpy as np\n",
    "import matplotlib"
   ]
  },
  {
   "cell_type": "markdown",
   "metadata": {},
   "source": [
    "#### Import the ipo info file, which has ipo first trade date:"
   ]
  },
  {
   "cell_type": "code",
   "execution_count": 6,
   "metadata": {},
   "outputs": [],
   "source": [
    "ipo_info_file_path = 'data/raw/IPO_Info.csv'\n",
    "ipo_info_df = pd.read_csv(ipo_info_file_path)\n",
    "ipo_info_df.drop(ipo_info_df.iloc[:, 5:9], axis=1, inplace=True)\n",
    "ipo_info_df['IPO Date'] = pd.to_datetime(ipo_info_df['IPO Date'])"
   ]
  },
  {
   "cell_type": "markdown",
   "metadata": {},
   "source": [
    "#### Import the IPO end of day data file:"
   ]
  },
  {
   "cell_type": "code",
   "execution_count": 8,
   "metadata": {},
   "outputs": [],
   "source": [
    "ipo_eod_data_file_path = 'data/raw/EOD_Data.csv'\n",
    "ipo_eod_data_df = pd.read_csv(ipo_eod_data_file_path)"
   ]
  },
  {
   "cell_type": "code",
   "execution_count": 9,
   "metadata": {},
   "outputs": [
    {
     "name": "stdout",
     "output_type": "stream",
     "text": [
      "Wall time: 1min 38s\n"
     ]
    }
   ],
   "source": [
    "%%time\n",
    "ipo_eod_data_df['Date'] = pd.to_datetime(ipo_eod_data_df['Date'])"
   ]
  },
  {
   "cell_type": "code",
   "execution_count": 10,
   "metadata": {},
   "outputs": [
    {
     "data": {
      "text/plain": [
       "917"
      ]
     },
     "execution_count": 10,
     "metadata": {},
     "output_type": "execute_result"
    }
   ],
   "source": [
    "ipo_info_df['Symbol'].count()"
   ]
  },
  {
   "cell_type": "code",
   "execution_count": 11,
   "metadata": {},
   "outputs": [],
   "source": [
    "# a structure to store execution data\n",
    "execution = {\n",
    "    'quantity':0,\n",
    "    'symbol':'',\n",
    "    'price':0.0,\n",
    "    'date':''\n",
    "}\n",
    "\n",
    "# a strcuture to store daily returns for equity curve\n",
    "daily_returns = {\n",
    "    'date':'',\n",
    "    'pnl':0.0\n",
    "}"
   ]
  },
  {
   "cell_type": "code",
   "execution_count": 12,
   "metadata": {},
   "outputs": [],
   "source": [
    "class moving_average:\n",
    "    \n",
    "    def __init__(self, length):\n",
    "        self.length = length\n",
    "        self.value_queue = []\n",
    "        \n",
    "    def add_val(self, val):\n",
    "        self.value_queue.append(val)\n",
    "        if len(self.value_queue) > self.length:\n",
    "            self.value_queue.pop(0)\n",
    "            \n",
    "    def current_val(self):\n",
    "        return sum(self.value_queue)/float(len(self.value_queue))\n",
    "    \n",
    "    def get_length(self):\n",
    "        return len(self.value_queue)\n",
    "    \n",
    "    def __delitem__(self):\n",
    "        self.value_queue[:] = []\n",
    "    "
   ]
  },
  {
   "cell_type": "code",
   "execution_count": 15,
   "metadata": {},
   "outputs": [],
   "source": [
    "# this version uses moving average for the stop\n",
    "def backtest_symbol(symbol, start_date):\n",
    "    \n",
    "    \n",
    "    # get the price data starting from IPO Date sorted by date\n",
    "    price_data = ipo_eod_data_df[(ipo_eod_data_df.Symbol==symbol) & (ipo_eod_data_df.Date >= start_date)].sort_values(by=['Date'])\n",
    "    \n",
    "    days_since_ipo = 0\n",
    "    all_time_high = 0.0\n",
    "    low0 = 99990.0\n",
    "    low1 = 99990.0\n",
    "    low2 = 99990.0\n",
    "    low3 = 99990.0\n",
    "    DOLLAR_PER_POSITION = 10000\n",
    "    \n",
    "    entry_triggered = False\n",
    "    \n",
    "    execution_list = []\n",
    "    daily_returns_list = []\n",
    "    position = 0\n",
    "    previous_close = 0\n",
    "    entry_date = ''\n",
    "    ma_length = 20\n",
    "    ma = moving_average(ma_length)\n",
    "    \n",
    "    # iterate through the days starting with ipo date\n",
    "    for index, row in price_data.iterrows():\n",
    "        if entry_triggered:\n",
    "            position = int(DOLLAR_PER_POSITION/previous_close)\n",
    "            execution_list.append({'Quantity':position,'Symbol':symbol,'Price':row['VWAP'],'Date':row['Date']})\n",
    "            entry_date = row['Date']\n",
    "            entry_triggered = False\n",
    "        \n",
    "              \n",
    "        \n",
    "        days_since_ipo += 1\n",
    "        \n",
    "        new_high = False\n",
    "        if row['High'] > all_time_high: \n",
    "            all_time_high = row['High']\n",
    "            new_high = True\n",
    "            \n",
    "        # update 3 day low\n",
    "        low3 = low2\n",
    "        low2 = low1\n",
    "        low1 = low0\n",
    "        low0 = row['Low']\n",
    "        \n",
    "        three_day_low = min(low1,low2,low3)\n",
    "        \n",
    "        # check if entry triggered\n",
    "        if (position == 0\n",
    "            and days_since_ipo > 5 \n",
    "            and new_high):\n",
    "            entry_triggered = True \n",
    "            #note: will enter next day vwap\n",
    "            \n",
    "        # check if stopped out\n",
    "        if position != 0:\n",
    "            stop_price = min(ma.current_val, three_day_low)\n",
    "            if (row['Low'] < stop_price\n",
    "                and entry_triggered == False):\n",
    "                execution_list.append({'Quantity':(position*-1),'Symbol':symbol,'Price':stop_price,'Date':row['Date']})\n",
    "                daily_returns_list.append({'Date':row['Date'],'pnl':((stop_price - previous_close) * position)})\n",
    "                position = 0\n",
    "            else:\n",
    "                # record daily returns\n",
    "                change = 0.0\n",
    "                if entry_date == row['Date']:\n",
    "                    # today was the entry\n",
    "                    change = row['Close'] - row['VWAP']\n",
    "                else:\n",
    "                    change = row['Close'] - previous_close\n",
    "                \n",
    "                daily_returns_list.append({'Date':row['Date'],'pnl':(change * position)})\n",
    "                \n",
    "        # update moving avg\n",
    "        ma.add_val(row['Close'])  \n",
    "            \n",
    "        previous_close = row['Close']\n",
    "        \n",
    "              \n",
    "    executions_df = pd.DataFrame(execution_list)\n",
    "    daily_returns_df = pd.DataFrame(daily_returns_list)\n",
    "        \n",
    "    return (executions_df,daily_returns_df)"
   ]
  },
  {
   "cell_type": "markdown",
   "metadata": {},
   "source": [
    "#### Test 1 Symbol"
   ]
  },
  {
   "cell_type": "code",
   "execution_count": 16,
   "metadata": {},
   "outputs": [],
   "source": [
    "result_tuple = backtest_symbol('ROKU','2017-09-28')"
   ]
  },
  {
   "cell_type": "markdown",
   "metadata": {},
   "source": [
    "Trades in ROKU:"
   ]
  },
  {
   "cell_type": "code",
   "execution_count": 17,
   "metadata": {},
   "outputs": [
    {
     "data": {
      "text/html": [
       "<div>\n",
       "<style scoped>\n",
       "    .dataframe tbody tr th:only-of-type {\n",
       "        vertical-align: middle;\n",
       "    }\n",
       "\n",
       "    .dataframe tbody tr th {\n",
       "        vertical-align: top;\n",
       "    }\n",
       "\n",
       "    .dataframe thead th {\n",
       "        text-align: right;\n",
       "    }\n",
       "</style>\n",
       "<table border=\"1\" class=\"dataframe\">\n",
       "  <thead>\n",
       "    <tr style=\"text-align: right;\">\n",
       "      <th></th>\n",
       "      <th>Date</th>\n",
       "      <th>Price</th>\n",
       "      <th>Quantity</th>\n",
       "      <th>Symbol</th>\n",
       "    </tr>\n",
       "  </thead>\n",
       "  <tbody>\n",
       "    <tr>\n",
       "      <th>0</th>\n",
       "      <td>2017-11-13</td>\n",
       "      <td>41.2980</td>\n",
       "      <td>300</td>\n",
       "      <td>ROKU</td>\n",
       "    </tr>\n",
       "    <tr>\n",
       "      <th>1</th>\n",
       "      <td>2017-11-21</td>\n",
       "      <td>37.7500</td>\n",
       "      <td>-300</td>\n",
       "      <td>ROKU</td>\n",
       "    </tr>\n",
       "    <tr>\n",
       "      <th>2</th>\n",
       "      <td>2017-11-29</td>\n",
       "      <td>45.2236</td>\n",
       "      <td>215</td>\n",
       "      <td>ROKU</td>\n",
       "    </tr>\n",
       "    <tr>\n",
       "      <th>3</th>\n",
       "      <td>2017-12-04</td>\n",
       "      <td>42.3100</td>\n",
       "      <td>-215</td>\n",
       "      <td>ROKU</td>\n",
       "    </tr>\n",
       "    <tr>\n",
       "      <th>4</th>\n",
       "      <td>2017-12-18</td>\n",
       "      <td>55.5069</td>\n",
       "      <td>191</td>\n",
       "      <td>ROKU</td>\n",
       "    </tr>\n",
       "    <tr>\n",
       "      <th>5</th>\n",
       "      <td>2017-12-21</td>\n",
       "      <td>52.4300</td>\n",
       "      <td>-191</td>\n",
       "      <td>ROKU</td>\n",
       "    </tr>\n",
       "  </tbody>\n",
       "</table>\n",
       "</div>"
      ],
      "text/plain": [
       "        Date    Price  Quantity Symbol\n",
       "0 2017-11-13  41.2980       300   ROKU\n",
       "1 2017-11-21  37.7500      -300   ROKU\n",
       "2 2017-11-29  45.2236       215   ROKU\n",
       "3 2017-12-04  42.3100      -215   ROKU\n",
       "4 2017-12-18  55.5069       191   ROKU\n",
       "5 2017-12-21  52.4300      -191   ROKU"
      ]
     },
     "execution_count": 17,
     "metadata": {},
     "output_type": "execute_result"
    }
   ],
   "source": [
    "result_tuple[0]"
   ]
  },
  {
   "cell_type": "markdown",
   "metadata": {},
   "source": [
    "Roku daily returns:"
   ]
  },
  {
   "cell_type": "code",
   "execution_count": 18,
   "metadata": {},
   "outputs": [
    {
     "data": {
      "text/html": [
       "<div>\n",
       "<style scoped>\n",
       "    .dataframe tbody tr th:only-of-type {\n",
       "        vertical-align: middle;\n",
       "    }\n",
       "\n",
       "    .dataframe tbody tr th {\n",
       "        vertical-align: top;\n",
       "    }\n",
       "\n",
       "    .dataframe thead th {\n",
       "        text-align: right;\n",
       "    }\n",
       "</style>\n",
       "<table border=\"1\" class=\"dataframe\">\n",
       "  <thead>\n",
       "    <tr style=\"text-align: right;\">\n",
       "      <th></th>\n",
       "      <th>Date</th>\n",
       "      <th>pnl</th>\n",
       "    </tr>\n",
       "  </thead>\n",
       "  <tbody>\n",
       "    <tr>\n",
       "      <th>0</th>\n",
       "      <td>2017-11-13</td>\n",
       "      <td>423.6000</td>\n",
       "    </tr>\n",
       "    <tr>\n",
       "      <th>1</th>\n",
       "      <td>2017-11-14</td>\n",
       "      <td>-1728.0000</td>\n",
       "    </tr>\n",
       "    <tr>\n",
       "      <th>2</th>\n",
       "      <td>2017-11-15</td>\n",
       "      <td>711.0000</td>\n",
       "    </tr>\n",
       "    <tr>\n",
       "      <th>3</th>\n",
       "      <td>2017-11-16</td>\n",
       "      <td>141.0000</td>\n",
       "    </tr>\n",
       "    <tr>\n",
       "      <th>4</th>\n",
       "      <td>2017-11-17</td>\n",
       "      <td>-360.0000</td>\n",
       "    </tr>\n",
       "    <tr>\n",
       "      <th>5</th>\n",
       "      <td>2017-11-20</td>\n",
       "      <td>129.0000</td>\n",
       "    </tr>\n",
       "    <tr>\n",
       "      <th>6</th>\n",
       "      <td>2017-11-21</td>\n",
       "      <td>-381.0000</td>\n",
       "    </tr>\n",
       "    <tr>\n",
       "      <th>7</th>\n",
       "      <td>2017-11-29</td>\n",
       "      <td>-76.0240</td>\n",
       "    </tr>\n",
       "    <tr>\n",
       "      <th>8</th>\n",
       "      <td>2017-11-30</td>\n",
       "      <td>-208.5500</td>\n",
       "    </tr>\n",
       "    <tr>\n",
       "      <th>9</th>\n",
       "      <td>2017-12-01</td>\n",
       "      <td>-75.2500</td>\n",
       "    </tr>\n",
       "    <tr>\n",
       "      <th>10</th>\n",
       "      <td>2017-12-04</td>\n",
       "      <td>-266.6000</td>\n",
       "    </tr>\n",
       "    <tr>\n",
       "      <th>11</th>\n",
       "      <td>2017-12-18</td>\n",
       "      <td>113.2821</td>\n",
       "    </tr>\n",
       "    <tr>\n",
       "      <th>12</th>\n",
       "      <td>2017-12-19</td>\n",
       "      <td>91.6800</td>\n",
       "    </tr>\n",
       "    <tr>\n",
       "      <th>13</th>\n",
       "      <td>2017-12-20</td>\n",
       "      <td>-704.7900</td>\n",
       "    </tr>\n",
       "    <tr>\n",
       "      <th>14</th>\n",
       "      <td>2017-12-21</td>\n",
       "      <td>-87.8600</td>\n",
       "    </tr>\n",
       "  </tbody>\n",
       "</table>\n",
       "</div>"
      ],
      "text/plain": [
       "         Date        pnl\n",
       "0  2017-11-13   423.6000\n",
       "1  2017-11-14 -1728.0000\n",
       "2  2017-11-15   711.0000\n",
       "3  2017-11-16   141.0000\n",
       "4  2017-11-17  -360.0000\n",
       "5  2017-11-20   129.0000\n",
       "6  2017-11-21  -381.0000\n",
       "7  2017-11-29   -76.0240\n",
       "8  2017-11-30  -208.5500\n",
       "9  2017-12-01   -75.2500\n",
       "10 2017-12-04  -266.6000\n",
       "11 2017-12-18   113.2821\n",
       "12 2017-12-19    91.6800\n",
       "13 2017-12-20  -704.7900\n",
       "14 2017-12-21   -87.8600"
      ]
     },
     "execution_count": 18,
     "metadata": {},
     "output_type": "execute_result"
    }
   ],
   "source": [
    "result_tuple[1]"
   ]
  },
  {
   "cell_type": "markdown",
   "metadata": {},
   "source": [
    "#### Test All Stocks and time execution:"
   ]
  },
  {
   "cell_type": "code",
   "execution_count": 19,
   "metadata": {},
   "outputs": [
    {
     "name": "stdout",
     "output_type": "stream",
     "text": [
      "Wall time: 1min 36s\n"
     ]
    }
   ],
   "source": [
    "%%time\n",
    "# iterate through the symbol list\n",
    "all_executions = None\n",
    "all_returns = None\n",
    "for index, row in ipo_info_df.iterrows():\n",
    "    \n",
    "    symbol = row['Symbol']\n",
    "    start_date = row['IPO Date']\n",
    "    \n",
    "    results = backtest_symbol(symbol, start_date)\n",
    "    \n",
    "    if all_executions is None:\n",
    "        all_executions = results[0]\n",
    "        all_returns = results[1]\n",
    "    else:\n",
    "        all_executions = pd.concat([all_executions, results[0]])\n",
    "        all_returns = pd.concat([all_returns, results[1]])\n",
    "sorted_returns = all_returns.sort_values(['Date'])\n",
    "returns = sorted_returns.groupby(['Date'])['pnl'].sum()   \n",
    "cumulative_sums = returns.cumsum()\n",
    "all_executions['abs_shares'] = abs(all_executions['Quantity'])\n",
    "shares_traded = all_executions.abs_shares.sum()\n",
    "gross = all_returns.sum()\n",
    "commission = shares_traded * .007\n",
    "net = gross - commission\n",
    "cps = gross / shares_traded"
   ]
  },
  {
   "cell_type": "code",
   "execution_count": 20,
   "metadata": {},
   "outputs": [],
   "source": [
    "number_of_trades = all_executions.count()"
   ]
  },
  {
   "cell_type": "code",
   "execution_count": 21,
   "metadata": {},
   "outputs": [],
   "source": [
    "%matplotlib inline"
   ]
  },
  {
   "cell_type": "code",
   "execution_count": 22,
   "metadata": {},
   "outputs": [
    {
     "data": {
      "text/plain": [
       "<matplotlib.axes._subplots.AxesSubplot at 0xcb79cf8>"
      ]
     },
     "execution_count": 22,
     "metadata": {},
     "output_type": "execute_result"
    },
    {
     "data": {
      "image/png": "[encoded data removed]",
      "text/plain": [
       "<matplotlib.figure.Figure at 0x8528e80>"
      ]
     },
     "metadata": {},
     "output_type": "display_data"
    }
   ],
   "source": [
    "cumulative_sums.plot.line()"
   ]
  },
  {
   "cell_type": "code",
   "execution_count": 23,
   "metadata": {},
   "outputs": [
    {
     "data": {
      "text/plain": [
       "3181228"
      ]
     },
     "execution_count": 23,
     "metadata": {},
     "output_type": "execute_result"
    }
   ],
   "source": [
    "shares_traded"
   ]
  },
  {
   "cell_type": "code",
   "execution_count": 24,
   "metadata": {},
   "outputs": [
    {
     "data": {
      "text/plain": [
       "pnl    137453.6028\n",
       "dtype: float64"
      ]
     },
     "execution_count": 24,
     "metadata": {},
     "output_type": "execute_result"
    }
   ],
   "source": [
    "gross"
   ]
  },
  {
   "cell_type": "code",
   "execution_count": 25,
   "metadata": {},
   "outputs": [
    {
     "data": {
      "text/plain": [
       "22268.596"
      ]
     },
     "execution_count": 25,
     "metadata": {},
     "output_type": "execute_result"
    }
   ],
   "source": [
    "commission"
   ]
  },
  {
   "cell_type": "code",
   "execution_count": 26,
   "metadata": {},
   "outputs": [
    {
     "data": {
      "text/plain": [
       "pnl    115185.0068\n",
       "dtype: float64"
      ]
     },
     "execution_count": 26,
     "metadata": {},
     "output_type": "execute_result"
    }
   ],
   "source": [
    "net"
   ]
  },
  {
   "cell_type": "code",
   "execution_count": 27,
   "metadata": {},
   "outputs": [
    {
     "data": {
      "text/plain": [
       "pnl    0.043208\n",
       "dtype: float64"
      ]
     },
     "execution_count": 27,
     "metadata": {},
     "output_type": "execute_result"
    }
   ],
   "source": [
    "cps"
   ]
  },
  {
   "cell_type": "code",
   "execution_count": 29,
   "metadata": {},
   "outputs": [
    {
     "data": {
      "text/plain": [
       "6214"
      ]
     },
     "execution_count": 29,
     "metadata": {},
     "output_type": "execute_result"
    }
   ],
   "source": [
    "number_of_trades['Symbol']"
   ]
  }
 ],
 "metadata": {
  "kernelspec": {
   "display_name": "Python 2",
   "language": "python",
   "name": "python2"
  },
  "language_info": {
   "codemirror_mode": {
    "name": "ipython",
    "version": 2
   },
   "file_extension": ".py",
   "mimetype": "text/x-python",
   "name": "python",
   "nbconvert_exporter": "python",
   "pygments_lexer": "ipython2",
   "version": "2.7.14"
  }
 },
 "nbformat": 4,
 "nbformat_minor": 2
}
