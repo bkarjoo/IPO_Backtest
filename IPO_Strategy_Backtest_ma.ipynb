{
 "cells": [
  {
   "cell_type": "code",
   "execution_count": 1,
   "metadata": {},
   "outputs": [],
   "source": [
    "import pandas as pd\n",
    "import numpy as np\n",
    "import matplotlib"
   ]
  },
  {
   "cell_type": "markdown",
   "metadata": {},
   "source": [
    "#### Import the ipo info file, which has ipo first trade date:"
   ]
  },
  {
   "cell_type": "code",
   "execution_count": 2,
   "metadata": {},
   "outputs": [],
   "source": [
    "ipo_info_file_path = 'data/raw/IPO_Info.csv'\n",
    "ipo_info_df = pd.read_csv(ipo_info_file_path)"
   ]
  },
  {
   "cell_type": "code",
   "execution_count": 3,
   "metadata": {},
   "outputs": [
    {
     "data": {
      "text/html": [
       "<div>\n",
       "<style scoped>\n",
       "    .dataframe tbody tr th:only-of-type {\n",
       "        vertical-align: middle;\n",
       "    }\n",
       "\n",
       "    .dataframe tbody tr th {\n",
       "        vertical-align: top;\n",
       "    }\n",
       "\n",
       "    .dataframe thead th {\n",
       "        text-align: right;\n",
       "    }\n",
       "</style>\n",
       "<table border=\"1\" class=\"dataframe\">\n",
       "  <thead>\n",
       "    <tr style=\"text-align: right;\">\n",
       "      <th></th>\n",
       "      <th>Symbol</th>\n",
       "      <th>IPO Date</th>\n",
       "      <th>Offer Price</th>\n",
       "      <th>Sector</th>\n",
       "      <th>Industry</th>\n",
       "      <th>Unnamed: 5</th>\n",
       "      <th>Unnamed: 6</th>\n",
       "      <th>Unnamed: 7</th>\n",
       "      <th>Unnamed: 8</th>\n",
       "    </tr>\n",
       "  </thead>\n",
       "  <tbody>\n",
       "    <tr>\n",
       "      <th>0</th>\n",
       "      <td>AGRO</td>\n",
       "      <td>1/28/2011</td>\n",
       "      <td>11.0</td>\n",
       "      <td>AGRICULTRE</td>\n",
       "      <td>Agricultural Operations</td>\n",
       "      <td>NaN</td>\n",
       "      <td>NaN</td>\n",
       "      <td>NaN</td>\n",
       "      <td>NaN</td>\n",
       "    </tr>\n",
       "    <tr>\n",
       "      <th>1</th>\n",
       "      <td>BKU</td>\n",
       "      <td>1/28/2011</td>\n",
       "      <td>27.0</td>\n",
       "      <td>S&amp;Ls</td>\n",
       "      <td>Finance-Savings &amp; Loan</td>\n",
       "      <td>NaN</td>\n",
       "      <td>NaN</td>\n",
       "      <td>NaN</td>\n",
       "      <td>NaN</td>\n",
       "    </tr>\n",
       "    <tr>\n",
       "      <th>2</th>\n",
       "      <td>INXN</td>\n",
       "      <td>1/28/2011</td>\n",
       "      <td>13.0</td>\n",
       "      <td>INTERNET</td>\n",
       "      <td>Internet-Network Sltns</td>\n",
       "      <td>NaN</td>\n",
       "      <td>NaN</td>\n",
       "      <td>NaN</td>\n",
       "      <td>NaN</td>\n",
       "    </tr>\n",
       "    <tr>\n",
       "      <th>3</th>\n",
       "      <td>NPTN</td>\n",
       "      <td>2/2/2011</td>\n",
       "      <td>11.0</td>\n",
       "      <td>ELECTRNCS</td>\n",
       "      <td>Electronic-Parts</td>\n",
       "      <td>NaN</td>\n",
       "      <td>NaN</td>\n",
       "      <td>NaN</td>\n",
       "      <td>NaN</td>\n",
       "    </tr>\n",
       "    <tr>\n",
       "      <th>4</th>\n",
       "      <td>FLDM</td>\n",
       "      <td>2/10/2011</td>\n",
       "      <td>13.5</td>\n",
       "      <td>MEDICAL</td>\n",
       "      <td>Medical-Systems/Equip</td>\n",
       "      <td>NaN</td>\n",
       "      <td>NaN</td>\n",
       "      <td>NaN</td>\n",
       "      <td>NaN</td>\n",
       "    </tr>\n",
       "  </tbody>\n",
       "</table>\n",
       "</div>"
      ],
      "text/plain": [
       "  Symbol   IPO Date  Offer Price      Sector                 Industry  \\\n",
       "0   AGRO  1/28/2011         11.0  AGRICULTRE  Agricultural Operations   \n",
       "1    BKU  1/28/2011         27.0        S&Ls   Finance-Savings & Loan   \n",
       "2   INXN  1/28/2011         13.0    INTERNET   Internet-Network Sltns   \n",
       "3   NPTN   2/2/2011         11.0   ELECTRNCS         Electronic-Parts   \n",
       "4   FLDM  2/10/2011         13.5     MEDICAL    Medical-Systems/Equip   \n",
       "\n",
       "   Unnamed: 5  Unnamed: 6  Unnamed: 7  Unnamed: 8  \n",
       "0         NaN         NaN         NaN         NaN  \n",
       "1         NaN         NaN         NaN         NaN  \n",
       "2         NaN         NaN         NaN         NaN  \n",
       "3         NaN         NaN         NaN         NaN  \n",
       "4         NaN         NaN         NaN         NaN  "
      ]
     },
     "execution_count": 3,
     "metadata": {},
     "output_type": "execute_result"
    }
   ],
   "source": [
    "ipo_info_df.head()"
   ]
  },
  {
   "cell_type": "markdown",
   "metadata": {},
   "source": [
    "#### Remove extra columns "
   ]
  },
  {
   "cell_type": "code",
   "execution_count": 4,
   "metadata": {},
   "outputs": [],
   "source": [
    "ipo_info_df.drop(ipo_info_df.iloc[:, 5:9], axis=1, inplace=True)"
   ]
  },
  {
   "cell_type": "code",
   "execution_count": 5,
   "metadata": {},
   "outputs": [
    {
     "data": {
      "text/html": [
       "<div>\n",
       "<style scoped>\n",
       "    .dataframe tbody tr th:only-of-type {\n",
       "        vertical-align: middle;\n",
       "    }\n",
       "\n",
       "    .dataframe tbody tr th {\n",
       "        vertical-align: top;\n",
       "    }\n",
       "\n",
       "    .dataframe thead th {\n",
       "        text-align: right;\n",
       "    }\n",
       "</style>\n",
       "<table border=\"1\" class=\"dataframe\">\n",
       "  <thead>\n",
       "    <tr style=\"text-align: right;\">\n",
       "      <th></th>\n",
       "      <th>Symbol</th>\n",
       "      <th>IPO Date</th>\n",
       "      <th>Offer Price</th>\n",
       "      <th>Sector</th>\n",
       "      <th>Industry</th>\n",
       "    </tr>\n",
       "  </thead>\n",
       "  <tbody>\n",
       "    <tr>\n",
       "      <th>0</th>\n",
       "      <td>AGRO</td>\n",
       "      <td>1/28/2011</td>\n",
       "      <td>11.0</td>\n",
       "      <td>AGRICULTRE</td>\n",
       "      <td>Agricultural Operations</td>\n",
       "    </tr>\n",
       "    <tr>\n",
       "      <th>1</th>\n",
       "      <td>BKU</td>\n",
       "      <td>1/28/2011</td>\n",
       "      <td>27.0</td>\n",
       "      <td>S&amp;Ls</td>\n",
       "      <td>Finance-Savings &amp; Loan</td>\n",
       "    </tr>\n",
       "    <tr>\n",
       "      <th>2</th>\n",
       "      <td>INXN</td>\n",
       "      <td>1/28/2011</td>\n",
       "      <td>13.0</td>\n",
       "      <td>INTERNET</td>\n",
       "      <td>Internet-Network Sltns</td>\n",
       "    </tr>\n",
       "    <tr>\n",
       "      <th>3</th>\n",
       "      <td>NPTN</td>\n",
       "      <td>2/2/2011</td>\n",
       "      <td>11.0</td>\n",
       "      <td>ELECTRNCS</td>\n",
       "      <td>Electronic-Parts</td>\n",
       "    </tr>\n",
       "    <tr>\n",
       "      <th>4</th>\n",
       "      <td>FLDM</td>\n",
       "      <td>2/10/2011</td>\n",
       "      <td>13.5</td>\n",
       "      <td>MEDICAL</td>\n",
       "      <td>Medical-Systems/Equip</td>\n",
       "    </tr>\n",
       "  </tbody>\n",
       "</table>\n",
       "</div>"
      ],
      "text/plain": [
       "  Symbol   IPO Date  Offer Price      Sector                 Industry\n",
       "0   AGRO  1/28/2011         11.0  AGRICULTRE  Agricultural Operations\n",
       "1    BKU  1/28/2011         27.0        S&Ls   Finance-Savings & Loan\n",
       "2   INXN  1/28/2011         13.0    INTERNET   Internet-Network Sltns\n",
       "3   NPTN   2/2/2011         11.0   ELECTRNCS         Electronic-Parts\n",
       "4   FLDM  2/10/2011         13.5     MEDICAL    Medical-Systems/Equip"
      ]
     },
     "execution_count": 5,
     "metadata": {},
     "output_type": "execute_result"
    }
   ],
   "source": [
    "ipo_info_df.head()"
   ]
  },
  {
   "cell_type": "markdown",
   "metadata": {},
   "source": [
    "#### Convert date column to proper date type:"
   ]
  },
  {
   "cell_type": "code",
   "execution_count": 6,
   "metadata": {},
   "outputs": [],
   "source": [
    "ipo_info_df['IPO Date'] = pd.to_datetime(ipo_info_df['IPO Date'])"
   ]
  },
  {
   "cell_type": "code",
   "execution_count": 7,
   "metadata": {},
   "outputs": [
    {
     "data": {
      "text/html": [
       "<div>\n",
       "<style scoped>\n",
       "    .dataframe tbody tr th:only-of-type {\n",
       "        vertical-align: middle;\n",
       "    }\n",
       "\n",
       "    .dataframe tbody tr th {\n",
       "        vertical-align: top;\n",
       "    }\n",
       "\n",
       "    .dataframe thead th {\n",
       "        text-align: right;\n",
       "    }\n",
       "</style>\n",
       "<table border=\"1\" class=\"dataframe\">\n",
       "  <thead>\n",
       "    <tr style=\"text-align: right;\">\n",
       "      <th></th>\n",
       "      <th>Symbol</th>\n",
       "      <th>IPO Date</th>\n",
       "      <th>Offer Price</th>\n",
       "      <th>Sector</th>\n",
       "      <th>Industry</th>\n",
       "    </tr>\n",
       "  </thead>\n",
       "  <tbody>\n",
       "    <tr>\n",
       "      <th>0</th>\n",
       "      <td>AGRO</td>\n",
       "      <td>2011-01-28</td>\n",
       "      <td>11.0</td>\n",
       "      <td>AGRICULTRE</td>\n",
       "      <td>Agricultural Operations</td>\n",
       "    </tr>\n",
       "    <tr>\n",
       "      <th>1</th>\n",
       "      <td>BKU</td>\n",
       "      <td>2011-01-28</td>\n",
       "      <td>27.0</td>\n",
       "      <td>S&amp;Ls</td>\n",
       "      <td>Finance-Savings &amp; Loan</td>\n",
       "    </tr>\n",
       "    <tr>\n",
       "      <th>2</th>\n",
       "      <td>INXN</td>\n",
       "      <td>2011-01-28</td>\n",
       "      <td>13.0</td>\n",
       "      <td>INTERNET</td>\n",
       "      <td>Internet-Network Sltns</td>\n",
       "    </tr>\n",
       "    <tr>\n",
       "      <th>3</th>\n",
       "      <td>NPTN</td>\n",
       "      <td>2011-02-02</td>\n",
       "      <td>11.0</td>\n",
       "      <td>ELECTRNCS</td>\n",
       "      <td>Electronic-Parts</td>\n",
       "    </tr>\n",
       "    <tr>\n",
       "      <th>4</th>\n",
       "      <td>FLDM</td>\n",
       "      <td>2011-02-10</td>\n",
       "      <td>13.5</td>\n",
       "      <td>MEDICAL</td>\n",
       "      <td>Medical-Systems/Equip</td>\n",
       "    </tr>\n",
       "  </tbody>\n",
       "</table>\n",
       "</div>"
      ],
      "text/plain": [
       "  Symbol   IPO Date  Offer Price      Sector                 Industry\n",
       "0   AGRO 2011-01-28         11.0  AGRICULTRE  Agricultural Operations\n",
       "1    BKU 2011-01-28         27.0        S&Ls   Finance-Savings & Loan\n",
       "2   INXN 2011-01-28         13.0    INTERNET   Internet-Network Sltns\n",
       "3   NPTN 2011-02-02         11.0   ELECTRNCS         Electronic-Parts\n",
       "4   FLDM 2011-02-10         13.5     MEDICAL    Medical-Systems/Equip"
      ]
     },
     "execution_count": 7,
     "metadata": {},
     "output_type": "execute_result"
    }
   ],
   "source": [
    "ipo_info_df.head()"
   ]
  },
  {
   "cell_type": "markdown",
   "metadata": {},
   "source": [
    "#### Import the IPO end of day data file:"
   ]
  },
  {
   "cell_type": "code",
   "execution_count": 8,
   "metadata": {},
   "outputs": [],
   "source": [
    "ipo_eod_data_file_path = 'data/raw/EOD_Data.csv'\n",
    "ipo_eod_data_df = pd.read_csv(ipo_eod_data_file_path)"
   ]
  },
  {
   "cell_type": "code",
   "execution_count": 9,
   "metadata": {},
   "outputs": [
    {
     "data": {
      "text/html": [
       "<div>\n",
       "<style scoped>\n",
       "    .dataframe tbody tr th:only-of-type {\n",
       "        vertical-align: middle;\n",
       "    }\n",
       "\n",
       "    .dataframe tbody tr th {\n",
       "        vertical-align: top;\n",
       "    }\n",
       "\n",
       "    .dataframe thead th {\n",
       "        text-align: right;\n",
       "    }\n",
       "</style>\n",
       "<table border=\"1\" class=\"dataframe\">\n",
       "  <thead>\n",
       "    <tr style=\"text-align: right;\">\n",
       "      <th></th>\n",
       "      <th>Symbol</th>\n",
       "      <th>Date</th>\n",
       "      <th>Open</th>\n",
       "      <th>High</th>\n",
       "      <th>Low</th>\n",
       "      <th>Close</th>\n",
       "      <th>Volume</th>\n",
       "      <th>VWAP</th>\n",
       "    </tr>\n",
       "  </thead>\n",
       "  <tbody>\n",
       "    <tr>\n",
       "      <th>0</th>\n",
       "      <td>AAAP</td>\n",
       "      <td>11/11/2015</td>\n",
       "      <td>18.50</td>\n",
       "      <td>25.90</td>\n",
       "      <td>18.00</td>\n",
       "      <td>24.50</td>\n",
       "      <td>1584639.0</td>\n",
       "      <td>20.1547</td>\n",
       "    </tr>\n",
       "    <tr>\n",
       "      <th>1</th>\n",
       "      <td>AAAP</td>\n",
       "      <td>1/28/2016</td>\n",
       "      <td>23.71</td>\n",
       "      <td>25.08</td>\n",
       "      <td>23.01</td>\n",
       "      <td>23.81</td>\n",
       "      <td>310937.0</td>\n",
       "      <td>23.6635</td>\n",
       "    </tr>\n",
       "    <tr>\n",
       "      <th>2</th>\n",
       "      <td>AAAP</td>\n",
       "      <td>1/26/2016</td>\n",
       "      <td>25.00</td>\n",
       "      <td>25.11</td>\n",
       "      <td>20.53</td>\n",
       "      <td>24.86</td>\n",
       "      <td>53747.0</td>\n",
       "      <td>23.6999</td>\n",
       "    </tr>\n",
       "    <tr>\n",
       "      <th>3</th>\n",
       "      <td>AAAP</td>\n",
       "      <td>1/29/2016</td>\n",
       "      <td>23.19</td>\n",
       "      <td>24.97</td>\n",
       "      <td>23.18</td>\n",
       "      <td>24.88</td>\n",
       "      <td>60790.0</td>\n",
       "      <td>23.9222</td>\n",
       "    </tr>\n",
       "    <tr>\n",
       "      <th>4</th>\n",
       "      <td>AAAP</td>\n",
       "      <td>2/9/2016</td>\n",
       "      <td>24.00</td>\n",
       "      <td>25.23</td>\n",
       "      <td>23.89</td>\n",
       "      <td>24.06</td>\n",
       "      <td>23039.0</td>\n",
       "      <td>24.4341</td>\n",
       "    </tr>\n",
       "  </tbody>\n",
       "</table>\n",
       "</div>"
      ],
      "text/plain": [
       "  Symbol        Date   Open   High    Low  Close     Volume     VWAP\n",
       "0   AAAP  11/11/2015  18.50  25.90  18.00  24.50  1584639.0  20.1547\n",
       "1   AAAP   1/28/2016  23.71  25.08  23.01  23.81   310937.0  23.6635\n",
       "2   AAAP   1/26/2016  25.00  25.11  20.53  24.86    53747.0  23.6999\n",
       "3   AAAP   1/29/2016  23.19  24.97  23.18  24.88    60790.0  23.9222\n",
       "4   AAAP    2/9/2016  24.00  25.23  23.89  24.06    23039.0  24.4341"
      ]
     },
     "execution_count": 9,
     "metadata": {},
     "output_type": "execute_result"
    }
   ],
   "source": [
    "ipo_eod_data_df.head()"
   ]
  },
  {
   "cell_type": "code",
   "execution_count": 10,
   "metadata": {},
   "outputs": [
    {
     "name": "stdout",
     "output_type": "stream",
     "text": [
      "Wall time: 1min 32s\n"
     ]
    }
   ],
   "source": [
    "%%time\n",
    "ipo_eod_data_df['Date'] = pd.to_datetime(ipo_eod_data_df['Date'])"
   ]
  },
  {
   "cell_type": "code",
   "execution_count": 11,
   "metadata": {},
   "outputs": [
    {
     "data": {
      "text/html": [
       "<div>\n",
       "<style scoped>\n",
       "    .dataframe tbody tr th:only-of-type {\n",
       "        vertical-align: middle;\n",
       "    }\n",
       "\n",
       "    .dataframe tbody tr th {\n",
       "        vertical-align: top;\n",
       "    }\n",
       "\n",
       "    .dataframe thead th {\n",
       "        text-align: right;\n",
       "    }\n",
       "</style>\n",
       "<table border=\"1\" class=\"dataframe\">\n",
       "  <thead>\n",
       "    <tr style=\"text-align: right;\">\n",
       "      <th></th>\n",
       "      <th>Symbol</th>\n",
       "      <th>Date</th>\n",
       "      <th>Open</th>\n",
       "      <th>High</th>\n",
       "      <th>Low</th>\n",
       "      <th>Close</th>\n",
       "      <th>Volume</th>\n",
       "      <th>VWAP</th>\n",
       "    </tr>\n",
       "  </thead>\n",
       "  <tbody>\n",
       "    <tr>\n",
       "      <th>0</th>\n",
       "      <td>AAAP</td>\n",
       "      <td>2015-11-11</td>\n",
       "      <td>18.50</td>\n",
       "      <td>25.90</td>\n",
       "      <td>18.00</td>\n",
       "      <td>24.50</td>\n",
       "      <td>1584639.0</td>\n",
       "      <td>20.1547</td>\n",
       "    </tr>\n",
       "    <tr>\n",
       "      <th>1</th>\n",
       "      <td>AAAP</td>\n",
       "      <td>2016-01-28</td>\n",
       "      <td>23.71</td>\n",
       "      <td>25.08</td>\n",
       "      <td>23.01</td>\n",
       "      <td>23.81</td>\n",
       "      <td>310937.0</td>\n",
       "      <td>23.6635</td>\n",
       "    </tr>\n",
       "    <tr>\n",
       "      <th>2</th>\n",
       "      <td>AAAP</td>\n",
       "      <td>2016-01-26</td>\n",
       "      <td>25.00</td>\n",
       "      <td>25.11</td>\n",
       "      <td>20.53</td>\n",
       "      <td>24.86</td>\n",
       "      <td>53747.0</td>\n",
       "      <td>23.6999</td>\n",
       "    </tr>\n",
       "    <tr>\n",
       "      <th>3</th>\n",
       "      <td>AAAP</td>\n",
       "      <td>2016-01-29</td>\n",
       "      <td>23.19</td>\n",
       "      <td>24.97</td>\n",
       "      <td>23.18</td>\n",
       "      <td>24.88</td>\n",
       "      <td>60790.0</td>\n",
       "      <td>23.9222</td>\n",
       "    </tr>\n",
       "    <tr>\n",
       "      <th>4</th>\n",
       "      <td>AAAP</td>\n",
       "      <td>2016-02-09</td>\n",
       "      <td>24.00</td>\n",
       "      <td>25.23</td>\n",
       "      <td>23.89</td>\n",
       "      <td>24.06</td>\n",
       "      <td>23039.0</td>\n",
       "      <td>24.4341</td>\n",
       "    </tr>\n",
       "  </tbody>\n",
       "</table>\n",
       "</div>"
      ],
      "text/plain": [
       "  Symbol       Date   Open   High    Low  Close     Volume     VWAP\n",
       "0   AAAP 2015-11-11  18.50  25.90  18.00  24.50  1584639.0  20.1547\n",
       "1   AAAP 2016-01-28  23.71  25.08  23.01  23.81   310937.0  23.6635\n",
       "2   AAAP 2016-01-26  25.00  25.11  20.53  24.86    53747.0  23.6999\n",
       "3   AAAP 2016-01-29  23.19  24.97  23.18  24.88    60790.0  23.9222\n",
       "4   AAAP 2016-02-09  24.00  25.23  23.89  24.06    23039.0  24.4341"
      ]
     },
     "execution_count": 11,
     "metadata": {},
     "output_type": "execute_result"
    }
   ],
   "source": [
    "ipo_eod_data_df.head()"
   ]
  },
  {
   "cell_type": "code",
   "execution_count": 12,
   "metadata": {},
   "outputs": [
    {
     "data": {
      "text/plain": [
       "917"
      ]
     },
     "execution_count": 12,
     "metadata": {},
     "output_type": "execute_result"
    }
   ],
   "source": [
    "ipo_info_df['Symbol'].count()"
   ]
  },
  {
   "cell_type": "code",
   "execution_count": 13,
   "metadata": {},
   "outputs": [],
   "source": [
    "# a structure to store execution data\n",
    "execution = {\n",
    "    'quantity':0,\n",
    "    'symbol':'',\n",
    "    'price':0.0,\n",
    "    'date':''\n",
    "}\n",
    "\n",
    "# a strcuture to store daily returns for equity curve\n",
    "daily_returns = {\n",
    "    'date':'',\n",
    "    'pnl':0.0\n",
    "}"
   ]
  },
  {
   "cell_type": "code",
   "execution_count": 14,
   "metadata": {},
   "outputs": [],
   "source": [
    "class moving_average:\n",
    "    \n",
    "    def __init__(self, length):\n",
    "        self.length = length\n",
    "        self.value_queue = []\n",
    "        \n",
    "    def add_val(self, val):\n",
    "        self.value_queue.append(val)\n",
    "        if len(self.value_queue) > self.length:\n",
    "            self.value_queue.pop(0)\n",
    "            \n",
    "    def current_val(self):\n",
    "        return sum(self.value_queue)/float(len(self.value_queue))\n",
    "    \n",
    "    def get_length(self):\n",
    "        return len(self.value_queue)\n",
    "    \n",
    "    def __delitem__(self):\n",
    "        self.value_queue[:] = []\n",
    "    "
   ]
  },
  {
   "cell_type": "code",
   "execution_count": 64,
   "metadata": {},
   "outputs": [],
   "source": [
    "# this version uses moving average for the stop\n",
    "def backtest_symbol(symbol, start_date):\n",
    "    \n",
    "    \n",
    "    # get the price data starting from IPO Date sorted by date\n",
    "    price_data = ipo_eod_data_df[(ipo_eod_data_df.Symbol==symbol) & (ipo_eod_data_df.Date >= start_date)].sort_values(by=['Date'])\n",
    "    \n",
    "    days_since_ipo = 0\n",
    "    all_time_high = 0.0\n",
    "    low0 = 99990.0\n",
    "    low1 = 99990.0\n",
    "    low2 = 99990.0\n",
    "    low3 = 99990.0\n",
    "    DOLLAR_PER_POSITION = 10000\n",
    "    \n",
    "    entry_triggered = False\n",
    "    \n",
    "    execution_list = []\n",
    "    daily_returns_list = []\n",
    "    position = 0\n",
    "    previous_close = 0\n",
    "    entry_date = ''\n",
    "    ma = moving_average(5)\n",
    "    \n",
    "    # iterate through the days starting with ipo date\n",
    "    for index, row in price_data.iterrows():\n",
    "        if entry_triggered:\n",
    "            position = int(DOLLAR_PER_POSITION/previous_close)\n",
    "            execution_list.append({'Quantity':position,'Symbol':symbol,'Price':row['VWAP'],'Date':row['Date']})\n",
    "            entry_date = row['Date']\n",
    "            entry_triggered = False\n",
    "        \n",
    "              \n",
    "        \n",
    "        days_since_ipo += 1\n",
    "        \n",
    "        new_high = False\n",
    "        if row['High'] > all_time_high: \n",
    "            all_time_high = row['High']\n",
    "            new_high = True\n",
    "            \n",
    "        # update 3 day low\n",
    "        low3 = low2\n",
    "        low2 = low1\n",
    "        low1 = low0\n",
    "        low0 = row['Low']\n",
    "        \n",
    "        three_day_low = min(low1,low2,low3)\n",
    "        \n",
    "        # check if entry triggered\n",
    "        if (position == 0\n",
    "            and days_since_ipo > 5 \n",
    "            and new_high):\n",
    "            entry_triggered = True \n",
    "            #note: will enter next day vwap\n",
    "            \n",
    "        # check if stopped out\n",
    "        if position != 0:\n",
    "            if (row['Low'] < ma.current_val()\n",
    "                and entry_triggered == False):\n",
    "                execution_list.append({'Quantity':(position*-1),'Symbol':symbol,'Price':ma.current_val(),'Date':row['Date']})\n",
    "                daily_returns_list.append({'Date':row['Date'],'pnl':((ma.current_val() - previous_close) * position)})\n",
    "                position = 0\n",
    "            else:\n",
    "                # record daily returns\n",
    "                change = 0.0\n",
    "                if entry_date == row['Date']:\n",
    "                    # today was the entry\n",
    "                    change = row['Close'] - row['VWAP']\n",
    "                else:\n",
    "                    change = row['Close'] - previous_close\n",
    "                \n",
    "                daily_returns_list.append({'Date':row['Date'],'pnl':(change * position)})\n",
    "                \n",
    "        # update moving avg\n",
    "        ma.add_val(row['Close'])  \n",
    "            \n",
    "        previous_close = row['Close']\n",
    "        \n",
    "              \n",
    "    executions_df = pd.DataFrame(execution_list)\n",
    "    daily_returns_df = pd.DataFrame(daily_returns_list)\n",
    "        \n",
    "    return (executions_df,daily_returns_df)"
   ]
  },
  {
   "cell_type": "markdown",
   "metadata": {},
   "source": [
    "#### Test 1 Symbol"
   ]
  },
  {
   "cell_type": "code",
   "execution_count": 65,
   "metadata": {},
   "outputs": [],
   "source": [
    "result_tuple = backtest_symbol('ROKU','2017-09-28')"
   ]
  },
  {
   "cell_type": "markdown",
   "metadata": {},
   "source": [
    "Trades in ROKU:"
   ]
  },
  {
   "cell_type": "code",
   "execution_count": 66,
   "metadata": {},
   "outputs": [
    {
     "data": {
      "text/html": [
       "<div>\n",
       "<style scoped>\n",
       "    .dataframe tbody tr th:only-of-type {\n",
       "        vertical-align: middle;\n",
       "    }\n",
       "\n",
       "    .dataframe tbody tr th {\n",
       "        vertical-align: top;\n",
       "    }\n",
       "\n",
       "    .dataframe thead th {\n",
       "        text-align: right;\n",
       "    }\n",
       "</style>\n",
       "<table border=\"1\" class=\"dataframe\">\n",
       "  <thead>\n",
       "    <tr style=\"text-align: right;\">\n",
       "      <th></th>\n",
       "      <th>Date</th>\n",
       "      <th>Price</th>\n",
       "      <th>Quantity</th>\n",
       "      <th>Symbol</th>\n",
       "    </tr>\n",
       "  </thead>\n",
       "  <tbody>\n",
       "    <tr>\n",
       "      <th>0</th>\n",
       "      <td>2017-11-13</td>\n",
       "      <td>41.2980</td>\n",
       "      <td>300</td>\n",
       "      <td>ROKU</td>\n",
       "    </tr>\n",
       "    <tr>\n",
       "      <th>1</th>\n",
       "      <td>2017-11-17</td>\n",
       "      <td>38.4040</td>\n",
       "      <td>-300</td>\n",
       "      <td>ROKU</td>\n",
       "    </tr>\n",
       "    <tr>\n",
       "      <th>2</th>\n",
       "      <td>2017-11-29</td>\n",
       "      <td>45.2236</td>\n",
       "      <td>215</td>\n",
       "      <td>ROKU</td>\n",
       "    </tr>\n",
       "    <tr>\n",
       "      <th>3</th>\n",
       "      <td>2017-11-30</td>\n",
       "      <td>43.5780</td>\n",
       "      <td>-215</td>\n",
       "      <td>ROKU</td>\n",
       "    </tr>\n",
       "    <tr>\n",
       "      <th>4</th>\n",
       "      <td>2017-12-18</td>\n",
       "      <td>55.5069</td>\n",
       "      <td>191</td>\n",
       "      <td>ROKU</td>\n",
       "    </tr>\n",
       "    <tr>\n",
       "      <th>5</th>\n",
       "      <td>2017-12-21</td>\n",
       "      <td>52.8060</td>\n",
       "      <td>-191</td>\n",
       "      <td>ROKU</td>\n",
       "    </tr>\n",
       "  </tbody>\n",
       "</table>\n",
       "</div>"
      ],
      "text/plain": [
       "        Date    Price  Quantity Symbol\n",
       "0 2017-11-13  41.2980       300   ROKU\n",
       "1 2017-11-17  38.4040      -300   ROKU\n",
       "2 2017-11-29  45.2236       215   ROKU\n",
       "3 2017-11-30  43.5780      -215   ROKU\n",
       "4 2017-12-18  55.5069       191   ROKU\n",
       "5 2017-12-21  52.8060      -191   ROKU"
      ]
     },
     "execution_count": 66,
     "metadata": {},
     "output_type": "execute_result"
    }
   ],
   "source": [
    "result_tuple[0]"
   ]
  },
  {
   "cell_type": "markdown",
   "metadata": {},
   "source": [
    "Roku daily returns:"
   ]
  },
  {
   "cell_type": "code",
   "execution_count": 67,
   "metadata": {},
   "outputs": [
    {
     "data": {
      "text/html": [
       "<div>\n",
       "<style scoped>\n",
       "    .dataframe tbody tr th:only-of-type {\n",
       "        vertical-align: middle;\n",
       "    }\n",
       "\n",
       "    .dataframe tbody tr th {\n",
       "        vertical-align: top;\n",
       "    }\n",
       "\n",
       "    .dataframe thead th {\n",
       "        text-align: right;\n",
       "    }\n",
       "</style>\n",
       "<table border=\"1\" class=\"dataframe\">\n",
       "  <thead>\n",
       "    <tr style=\"text-align: right;\">\n",
       "      <th></th>\n",
       "      <th>Date</th>\n",
       "      <th>pnl</th>\n",
       "    </tr>\n",
       "  </thead>\n",
       "  <tbody>\n",
       "    <tr>\n",
       "      <th>0</th>\n",
       "      <td>2017-11-13</td>\n",
       "      <td>423.6000</td>\n",
       "    </tr>\n",
       "    <tr>\n",
       "      <th>1</th>\n",
       "      <td>2017-11-14</td>\n",
       "      <td>-1728.0000</td>\n",
       "    </tr>\n",
       "    <tr>\n",
       "      <th>2</th>\n",
       "      <td>2017-11-15</td>\n",
       "      <td>711.0000</td>\n",
       "    </tr>\n",
       "    <tr>\n",
       "      <th>3</th>\n",
       "      <td>2017-11-16</td>\n",
       "      <td>141.0000</td>\n",
       "    </tr>\n",
       "    <tr>\n",
       "      <th>4</th>\n",
       "      <td>2017-11-17</td>\n",
       "      <td>-415.8000</td>\n",
       "    </tr>\n",
       "    <tr>\n",
       "      <th>5</th>\n",
       "      <td>2017-11-29</td>\n",
       "      <td>-76.0240</td>\n",
       "    </tr>\n",
       "    <tr>\n",
       "      <th>6</th>\n",
       "      <td>2017-11-30</td>\n",
       "      <td>-277.7800</td>\n",
       "    </tr>\n",
       "    <tr>\n",
       "      <th>7</th>\n",
       "      <td>2017-12-18</td>\n",
       "      <td>113.2821</td>\n",
       "    </tr>\n",
       "    <tr>\n",
       "      <th>8</th>\n",
       "      <td>2017-12-19</td>\n",
       "      <td>91.6800</td>\n",
       "    </tr>\n",
       "    <tr>\n",
       "      <th>9</th>\n",
       "      <td>2017-12-20</td>\n",
       "      <td>-704.7900</td>\n",
       "    </tr>\n",
       "    <tr>\n",
       "      <th>10</th>\n",
       "      <td>2017-12-21</td>\n",
       "      <td>-16.0440</td>\n",
       "    </tr>\n",
       "  </tbody>\n",
       "</table>\n",
       "</div>"
      ],
      "text/plain": [
       "         Date        pnl\n",
       "0  2017-11-13   423.6000\n",
       "1  2017-11-14 -1728.0000\n",
       "2  2017-11-15   711.0000\n",
       "3  2017-11-16   141.0000\n",
       "4  2017-11-17  -415.8000\n",
       "5  2017-11-29   -76.0240\n",
       "6  2017-11-30  -277.7800\n",
       "7  2017-12-18   113.2821\n",
       "8  2017-12-19    91.6800\n",
       "9  2017-12-20  -704.7900\n",
       "10 2017-12-21   -16.0440"
      ]
     },
     "execution_count": 67,
     "metadata": {},
     "output_type": "execute_result"
    }
   ],
   "source": [
    "result_tuple[1]"
   ]
  },
  {
   "cell_type": "markdown",
   "metadata": {},
   "source": [
    "#### Test All Stocks and time execution:"
   ]
  },
  {
   "cell_type": "code",
   "execution_count": 68,
   "metadata": {},
   "outputs": [
    {
     "name": "stdout",
     "output_type": "stream",
     "text": [
      "Wall time: 1min 31s\n"
     ]
    }
   ],
   "source": [
    "%%time\n",
    "# iterate through the symbol list\n",
    "all_executions = None\n",
    "all_returns = None\n",
    "for index, row in ipo_info_df.iterrows():\n",
    "    \n",
    "    symbol = row['Symbol']\n",
    "    start_date = row['IPO Date']\n",
    "    \n",
    "    results = backtest_symbol(symbol, start_date)\n",
    "    \n",
    "    if all_executions is None:\n",
    "        all_executions = results[0]\n",
    "        all_returns = results[1]\n",
    "    else:\n",
    "        all_executions = pd.concat([all_executions, results[0]])\n",
    "        all_returns = pd.concat([all_returns, results[1]])\n",
    "sorted_returns = all_returns.sort_values(['Date'])\n",
    "returns = sorted_returns.groupby(['Date'])['pnl'].sum()   \n",
    "cumulative_sums = returns.cumsum()\n",
    "all_executions['abs_shares'] = abs(all_executions['Quantity'])\n",
    "shares_traded = all_executions.abs_shares.sum()\n",
    "gross = all_returns.sum()\n",
    "commission = shares_traded * .007\n",
    "net = gross - commission\n",
    "cps = gross / shares_traded"
   ]
  },
  {
   "cell_type": "code",
   "execution_count": 72,
   "metadata": {},
   "outputs": [],
   "source": [
    "%matplotlib inline"
   ]
  },
  {
   "cell_type": "code",
   "execution_count": 73,
   "metadata": {},
   "outputs": [
    {
     "data": {
      "text/plain": [
       "<matplotlib.axes._subplots.AxesSubplot at 0x97ef1d0>"
      ]
     },
     "execution_count": 73,
     "metadata": {},
     "output_type": "execute_result"
    },
    {
     "data": {
      "image/png": "[encoded data removed]",
      "text/plain": [
       "<matplotlib.figure.Figure at 0x98f3e80>"
      ]
     },
     "metadata": {},
     "output_type": "display_data"
    }
   ],
   "source": [
    "cumulative_sums.plot.line()"
   ]
  },
  {
   "cell_type": "code",
   "execution_count": 76,
   "metadata": {},
   "outputs": [
    {
     "data": {
      "text/plain": [
       "4089503"
      ]
     },
     "execution_count": 76,
     "metadata": {},
     "output_type": "execute_result"
    }
   ],
   "source": [
    "shares_traded"
   ]
  },
  {
   "cell_type": "code",
   "execution_count": 77,
   "metadata": {},
   "outputs": [
    {
     "data": {
      "text/plain": [
       "pnl   -45771.835\n",
       "dtype: float64"
      ]
     },
     "execution_count": 77,
     "metadata": {},
     "output_type": "execute_result"
    }
   ],
   "source": [
    "gross"
   ]
  },
  {
   "cell_type": "code",
   "execution_count": 78,
   "metadata": {},
   "outputs": [
    {
     "data": {
      "text/plain": [
       "28626.521"
      ]
     },
     "execution_count": 78,
     "metadata": {},
     "output_type": "execute_result"
    }
   ],
   "source": [
    "commission"
   ]
  },
  {
   "cell_type": "code",
   "execution_count": 79,
   "metadata": {},
   "outputs": [
    {
     "data": {
      "text/plain": [
       "pnl   -74398.356\n",
       "dtype: float64"
      ]
     },
     "execution_count": 79,
     "metadata": {},
     "output_type": "execute_result"
    }
   ],
   "source": [
    "net"
   ]
  },
  {
   "cell_type": "code",
   "execution_count": 81,
   "metadata": {},
   "outputs": [
    {
     "data": {
      "text/plain": [
       "pnl   -0.011193\n",
       "dtype: float64"
      ]
     },
     "execution_count": 81,
     "metadata": {},
     "output_type": "execute_result"
    }
   ],
   "source": [
    "cps"
   ]
  }
 ],
 "metadata": {
  "kernelspec": {
   "display_name": "Python 2",
   "language": "python",
   "name": "python2"
  },
  "language_info": {
   "codemirror_mode": {
    "name": "ipython",
    "version": 2
   },
   "file_extension": ".py",
   "mimetype": "text/x-python",
   "name": "python",
   "nbconvert_exporter": "python",
   "pygments_lexer": "ipython2",
   "version": "2.7.14"
  }
 },
 "nbformat": 4,
 "nbformat_minor": 2
}
